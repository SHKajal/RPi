{
  "nbformat": 4,
  "nbformat_minor": 0,
  "metadata": {
    "colab": {
      "provenance": [],
      "gpuType": "T4",
      "authorship_tag": "ABX9TyMPOw1vROrdklzBJcUjKyw2",
      "include_colab_link": true
    },
    "kernelspec": {
      "name": "python3",
      "display_name": "Python 3"
    },
    "language_info": {
      "name": "python"
    },
    "accelerator": "GPU"
  },
  "cells": [
    {
      "cell_type": "markdown",
      "metadata": {
        "id": "view-in-github",
        "colab_type": "text"
      },
      "source": [
        "<a href=\"https://colab.research.google.com/github/SHKajal/RPi/blob/main/MLP_2_Binary_col_586.ipynb\" target=\"_parent\"><img src=\"https://colab.research.google.com/assets/colab-badge.svg\" alt=\"Open In Colab\"/></a>"
      ]
    },
    {
      "cell_type": "code",
      "execution_count": null,
      "metadata": {
        "id": "DrTO_NLAiJ8m"
      },
      "outputs": [],
      "source": [
        "from google.colab import drive\n",
        "drive.mount('/content/drive')"
      ]
    },
    {
      "cell_type": "code",
      "source": [
        "import pandas as pd\n",
        "df = pd.read_csv('/content/drive/MyDrive/CCIC-CIC-AndMal-2020/all_cat_586_col_Label.csv')"
      ],
      "metadata": {
        "id": "iiEiA0rEiSxI"
      },
      "execution_count": null,
      "outputs": []
    },
    {
      "cell_type": "code",
      "source": [
        "df"
      ],
      "metadata": {
        "id": "3ZJe-DukpTiS"
      },
      "execution_count": null,
      "outputs": []
    },
    {
      "cell_type": "code",
      "source": [
        "y = df.Category"
      ],
      "metadata": {
        "id": "7geBAEi3p9Xg"
      },
      "execution_count": null,
      "outputs": []
    },
    {
      "cell_type": "code",
      "source": [
        "X = df.drop('Category', axis=1,inplace=False)"
      ],
      "metadata": {
        "id": "z5To4aR5s3Bo"
      },
      "execution_count": null,
      "outputs": []
    },
    {
      "cell_type": "code",
      "source": [
        "del df"
      ],
      "metadata": {
        "id": "1LqYu0-Ys4tK"
      },
      "execution_count": null,
      "outputs": []
    },
    {
      "cell_type": "code",
      "source": [
        "from sklearn import preprocessing\n",
        "scaler = preprocessing.MinMaxScaler().fit(X)\n",
        "X = scaler.transform(X)"
      ],
      "metadata": {
        "id": "6CRRnUeTs7QQ"
      },
      "execution_count": null,
      "outputs": []
    },
    {
      "cell_type": "code",
      "source": [
        "from sklearn.model_selection import train_test_split\n",
        "X_train, X_test, y_train, y_test = train_test_split(X, y, test_size=.20)\n",
        "X_val, X_test, y_val, y_test = train_test_split(X_test, y_test, test_size=.50)"
      ],
      "metadata": {
        "id": "mdcmHbdOtTw-"
      },
      "execution_count": null,
      "outputs": []
    },
    {
      "cell_type": "code",
      "source": [
        "del X\n",
        "del y"
      ],
      "metadata": {
        "id": "B02llXVgtWYS"
      },
      "execution_count": null,
      "outputs": []
    },
    {
      "cell_type": "code",
      "source": [
        "from keras.models import Sequential\n",
        "from keras.layers import Dense, Dropout, Flatten, BatchNormalization, Convolution1D, MaxPooling1D"
      ],
      "metadata": {
        "id": "kccORIuutYpU"
      },
      "execution_count": null,
      "outputs": []
    },
    {
      "cell_type": "code",
      "source": [
        "model = Sequential([\n",
        "      Dense(1024, activation=\"relu\", input_shape=(X_train.shape[1],)),\n",
        "      # Dense(512, activation=\"relu\"),\n",
        "      Dense(256, activation=\"relu\"),\n",
        "      # Dense(128, activation=\"relu\"),\n",
        "      Dense(64, activation=\"relu\"),\n",
        "      Dense(32, activation=\"relu\"),\n",
        "      # Dense(16, activation=\"relu\"),\n",
        "      # Dense(4, activation=\"relu\"),\n",
        "      Dense(1, activation=\"sigmoid\"),\n",
        "      ])\n"
      ],
      "metadata": {
        "id": "-MgRMiZUtbx7"
      },
      "execution_count": null,
      "outputs": []
    },
    {
      "cell_type": "code",
      "source": [
        "model.load_weights(\"/content/drive/MyDrive/Models/MLP_2_Binary_col_586/weights/50.h5\")"
      ],
      "metadata": {
        "id": "gU_5UivWtxbA"
      },
      "execution_count": null,
      "outputs": []
    },
    {
      "cell_type": "code",
      "source": [
        "import tensorflow as tf\n",
        "model.compile(\n",
        "    loss=tf.keras.losses.binary_crossentropy,\n",
        "    optimizer=tf.keras.optimizers.Nadam(0.0001),\n",
        "    metrics=['binary_accuracy']\n",
        ")"
      ],
      "metadata": {
        "id": "tUpG1yEst0gB"
      },
      "execution_count": null,
      "outputs": []
    },
    {
      "cell_type": "code",
      "source": [
        "saving_path = '/content/drive/MyDrive/Models/MLP_2_Binary_col_586'"
      ],
      "metadata": {
        "id": "8zgpLehTt29V"
      },
      "execution_count": null,
      "outputs": []
    },
    {
      "cell_type": "code",
      "source": [
        "checkpoint_path = saving_path + \"/weights/{epoch:02d}.h5\"\n",
        "from keras.callbacks import ModelCheckpoint\n",
        "checkpoint_callback = ModelCheckpoint(\n",
        "    filepath=checkpoint_path,\n",
        "    save_weights_only=False,\n",
        "    save_best_only=False,\n",
        "    monitor='val_accuracy',\n",
        "    mode='max',\n",
        "    save_freq='epoch',\n",
        "    verbose=0)"
      ],
      "metadata": {
        "id": "X3oCThaLt6Xb"
      },
      "execution_count": null,
      "outputs": []
    },
    {
      "cell_type": "code",
      "source": [
        "history = model.fit(X_train, y_train, epochs=50, batch_size=32, validation_data=(X_val, y_val), callbacks=[checkpoint_callback])"
      ],
      "metadata": {
        "id": "8m0Z5-QOuSKJ"
      },
      "execution_count": null,
      "outputs": []
    },
    {
      "cell_type": "code",
      "source": [
        "from sklearn.metrics import classification_report\n",
        "y_pred = model.predict(X_test)\n",
        "report = classification_report(y_test, y_pred.round(), digits=4)\n",
        "print(report)"
      ],
      "metadata": {
        "id": "yNO3k2W3uViv"
      },
      "execution_count": null,
      "outputs": []
    },
    {
      "cell_type": "code",
      "source": [
        "with open(saving_path + \"/history.txt\", 'w') as file:\n",
        "    file.write(str(history.history))\n",
        "\n",
        "with open(saving_path + \"/report.txt\", 'w') as file:\n",
        "    file.write(str(report))\n"
      ],
      "metadata": {
        "id": "bk2A95CZuYqi"
      },
      "execution_count": null,
      "outputs": []
    },
    {
      "cell_type": "code",
      "source": [
        "import matplotlib.pyplot as plt\n",
        "\n",
        "# Extract the training and validation metrics from the history object\n",
        "train_acc = history.history['binary_accuracy']\n",
        "val_acc = history.history['val_binary_accuracy']\n",
        "train_loss = history.history['loss']\n",
        "val_loss = history.history['val_loss']\n",
        "\n",
        "# Create a figure with subplots\n",
        "fig, (ax1, ax2) = plt.subplots(2, 1, figsize=(8, 10))\n",
        "\n",
        "# Plot training and validation accuracy\n",
        "ax1.plot(train_acc, label='Train Accuracy')\n",
        "ax1.plot(val_acc, label='Validation Accuracy')\n",
        "ax1.set_title('Accuracy')\n",
        "ax1.set_xlabel('Epoch')\n",
        "ax1.set_ylabel('Accuracy')\n",
        "ax1.legend()\n",
        "\n",
        "# Plot training and validation loss\n",
        "ax2.plot(train_loss, label='Train Loss')\n",
        "ax2.plot(val_loss, label='Validation Loss')\n",
        "ax2.set_title('Loss')\n",
        "ax2.set_xlabel('Epoch')\n",
        "ax2.set_ylabel('Loss')\n",
        "ax2.legend()\n",
        "\n",
        "# Adjust spacing between subplots\n",
        "fig.tight_layout()\n",
        "\n",
        "# Display the figure\n",
        "plt.show()\n"
      ],
      "metadata": {
        "id": "sv01z8lPua8_"
      },
      "execution_count": null,
      "outputs": []
    },
    {
      "cell_type": "code",
      "source": [],
      "metadata": {
        "id": "OewAFfd3CCes"
      },
      "execution_count": null,
      "outputs": []
    }
  ]
}